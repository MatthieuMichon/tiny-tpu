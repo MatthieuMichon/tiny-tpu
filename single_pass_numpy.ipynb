{
 "cells": [
  {
   "cell_type": "code",
   "execution_count": 1,
   "id": "1a49d7f5",
   "metadata": {},
   "outputs": [],
   "source": [
    "import numpy as np\n",
    "\n",
    "# Learning Rate\n",
    "lr = 0.75\n",
    "\n",
    "# Inputs and Outputs of XOR\n",
    "X = np.array([[0., 0.],\n",
    "              [0., 1.],\n",
    "              [1., 0.],\n",
    "              [1., 1.]])\n",
    "\n",
    "Y = np.array([[0.],\n",
    "              [1.],\n",
    "              [1.],\n",
    "              [0.]])\n",
    "\n",
    "# Weights and Biases\n",
    "W1 = np.array([\n",
    "    [0.2985, -0.5792], \n",
    "    [0.0913, 0.4234]\n",
    "])\n",
    "W2 = np.array([\n",
    "    [0.5266, 0.2958]\n",
    "])\n",
    "B1 = np.array([-0.4939, 0.189])\n",
    "B2 = np.array([0.6358])"
   ]
  },
  {
   "cell_type": "markdown",
   "id": "9e47c52b",
   "metadata": {},
   "source": [
    "## Forward Pass"
   ]
  },
  {
   "cell_type": "code",
   "execution_count": 2,
   "id": "e4428ba9",
   "metadata": {},
   "outputs": [
    {
     "name": "stdout",
     "output_type": "stream",
     "text": [
      "Z1:\n",
      "[[-0.4939  0.189 ]\n",
      " [-1.0731  0.6124]\n",
      " [-0.1954  0.2803]\n",
      " [-0.7746  0.7037]]\n",
      "\n",
      "H1:\n",
      "[[-0.24695  0.189  ]\n",
      " [-0.53655  0.6124 ]\n",
      " [-0.0977   0.2803 ]\n",
      " [-0.3873   0.7037 ]]\n",
      "\n",
      "Z2:\n",
      "[[0.56166233]\n",
      " [0.53440069]\n",
      " [0.66726392]\n",
      " [0.64000228]]\n",
      "\n",
      "H2:\n",
      "[[0.56166233]\n",
      " [0.53440069]\n",
      " [0.66726392]\n",
      " [0.64000228]]\n",
      "\n"
     ]
    }
   ],
   "source": [
    "# Layer 1\n",
    "Z1 = X @ W1.T\n",
    "Z1 = Z1 + B1\n",
    "print(f'Z1:\\n{Z1}\\n')\n",
    "H1 = np.maximum(0.5 * Z1, Z1)\n",
    "print(f'H1:\\n{H1}\\n')\n",
    "\n",
    "# Layer 2\n",
    "Z2 = H1 @ W2.T\n",
    "Z2 = Z2 + B2\n",
    "print(f'Z2:\\n{Z2}\\n')\n",
    "H2 = np.maximum(0.5 * Z2, Z2)\n",
    "print(f'H2:\\n{H2}\\n')"
   ]
  },
  {
   "cell_type": "markdown",
   "id": "bc403ee1",
   "metadata": {},
   "source": [
    "## Loss Calculation"
   ]
  },
  {
   "cell_type": "code",
   "execution_count": 3,
   "id": "aa088fe4",
   "metadata": {},
   "outputs": [
    {
     "name": "stdout",
     "output_type": "stream",
     "text": [
      "0.2631408769381175\n"
     ]
    }
   ],
   "source": [
    "# MSE loss calculation (not needed for training)\n",
    "loss = np.mean((Y - H2) ** 2)\n",
    "print(loss)"
   ]
  },
  {
   "cell_type": "markdown",
   "id": "022de37f",
   "metadata": {},
   "source": [
    "## Backwards Pass"
   ]
  },
  {
   "cell_type": "code",
   "execution_count": 4,
   "id": "538de69f",
   "metadata": {},
   "outputs": [
    {
     "name": "stdout",
     "output_type": "stream",
     "text": [
      "dL/dH2:\n",
      "[[ 0.28083117]\n",
      " [-0.23279965]\n",
      " [-0.16636804]\n",
      " [ 0.32000114]]\n",
      "\n",
      "dL/dZ2:\n",
      "[[ 0.28083117]\n",
      " [-0.23279965]\n",
      " [-0.16636804]\n",
      " [ 0.32000114]]\n",
      "\n",
      "dL/dH1:\n",
      "[[ 0.14788569  0.08306986]\n",
      " [-0.1225923  -0.06886214]\n",
      " [-0.08760941 -0.04921167]\n",
      " [ 0.1685126   0.09465634]]\n",
      "\n",
      "dL/dZ1:\n",
      "[[ 0.07394285  0.08306986]\n",
      " [-0.06129615 -0.06886214]\n",
      " [-0.0438047  -0.04921167]\n",
      " [ 0.0842563   0.09465634]]\n",
      "\n"
     ]
    }
   ],
   "source": [
    "# Long Chain Calculation\n",
    "dL_dH2 = 2*(H2 - Y)/len(Y)   # Derivative of loss with respect to H2\n",
    "print(f'dL/dH2:\\n{dL_dH2}\\n')\n",
    "\n",
    "dL_dZ2 = np.multiply(dL_dH2, np.where(Z2 > 0, 1, 0.5))\n",
    "print(f'dL/dZ2:\\n{dL_dZ2}\\n')\n",
    "\n",
    "dL_dH1 = dL_dZ2 @ W2\n",
    "print(f'dL/dH1:\\n{dL_dH1}\\n')\n",
    "\n",
    "dL_dZ1 = np.multiply(dL_dH1, np.where(Z1 > 0, 1, 0.5))\n",
    "print(f'dL/dZ1:\\n{dL_dZ1}\\n')"
   ]
  },
  {
   "cell_type": "code",
   "execution_count": 5,
   "id": "a97d9b27",
   "metadata": {},
   "outputs": [
    {
     "name": "stdout",
     "output_type": "stream",
     "text": [
      "layer2.weight gradients:\n",
      "[[-0.05212489  0.08906242]]\n",
      "\n",
      "layer2.bias gradients:\n",
      "[0.20166461]\n",
      "\n",
      "layer1.weight gradients:\n",
      "[[0.0404516  0.02296015]\n",
      " [0.04544467 0.0257942 ]]\n",
      "\n",
      "layer1.bias gradients:\n",
      "[0.05309829 0.05965239]\n",
      "\n"
     ]
    }
   ],
   "source": [
    "# Leaf Node Calculations\n",
    "dL_dW2 = dL_dZ2.T @ H1\n",
    "print(f'layer2.weight gradients:\\n{dL_dW2}\\n')\n",
    "dL_dB2 = dL_dZ2.sum(axis=0)\n",
    "print(f'layer2.bias gradients:\\n{dL_dB2}\\n')\n",
    "\n",
    "dL_dW1 = dL_dZ1.T @ X\n",
    "print(f'layer1.weight gradients:\\n{dL_dW1}\\n')\n",
    "dL_dB1 = dL_dZ1.sum(axis=0)\n",
    "print(f'layer1.bias gradients:\\n{dL_dB1}\\n')"
   ]
  },
  {
   "cell_type": "markdown",
   "id": "3eb2155f",
   "metadata": {},
   "source": [
    "## Update Parameters"
   ]
  },
  {
   "cell_type": "code",
   "execution_count": 6,
   "id": "0600426c",
   "metadata": {},
   "outputs": [
    {
     "name": "stdout",
     "output_type": "stream",
     "text": [
      "layer1.weight:\n",
      "[[ 0.2681613  -0.59642011]\n",
      " [ 0.0572165   0.40405435]]\n",
      "\n",
      "layer1.bias:\n",
      "[-0.53372372  0.14426071]\n",
      "\n",
      "layer2.weight:\n",
      "[[0.56569366 0.22900318]]\n",
      "\n",
      "layer2.bias:\n",
      "[0.48455154]\n",
      "\n"
     ]
    }
   ],
   "source": [
    "W1 = W1 - lr * dL_dW1\n",
    "print(f'layer1.weight:\\n{W1}\\n')\n",
    "\n",
    "B1 = B1 - lr * dL_dB1\n",
    "print(f'layer1.bias:\\n{B1}\\n')\n",
    "\n",
    "W2 = W2 - lr * dL_dW2\n",
    "print(f'layer2.weight:\\n{W2}\\n')\n",
    "\n",
    "B2 = B2 - lr * dL_dB2\n",
    "print(f'layer2.bias:\\n{B2}\\n')"
   ]
  }
 ],
 "metadata": {
  "kernelspec": {
   "display_name": "xor-env",
   "language": "python",
   "name": "python3"
  },
  "language_info": {
   "codemirror_mode": {
    "name": "ipython",
    "version": 3
   },
   "file_extension": ".py",
   "mimetype": "text/x-python",
   "name": "python",
   "nbconvert_exporter": "python",
   "pygments_lexer": "ipython3",
   "version": "3.12.9"
  }
 },
 "nbformat": 4,
 "nbformat_minor": 5
}
